{
 "cells": [
  {
   "cell_type": "markdown",
   "metadata": {},
   "source": [
    "# Run pema\n",
    "\n",
    "Authors:\n",
    " - Angevaare, Joran <j.angevaare@nikhef.nl> (based on the Peak_Classification_Tester) \n"
   ]
  },
  {
   "cell_type": "markdown",
   "metadata": {},
   "source": [
    "## This notebook ##\n",
    "\n",
    "**Goal**\n",
    " - See how clustering and classification may be improved by Kr simulations?\n",
    "\n",
    "**Known issues**\n",
    " -\n"
   ]
  },
  {
   "cell_type": "markdown",
   "metadata": {},
   "source": [
    "**Start up ``strax`` + load tools**"
   ]
  },
  {
   "cell_type": "code",
   "execution_count": null,
   "metadata": {
    "ExecuteTime": {
     "end_time": "2021-03-28T12:39:50.921907Z",
     "start_time": "2021-03-28T12:39:47.824032Z"
    }
   },
   "outputs": [],
   "source": [
    "import pema\n",
    "import os"
   ]
  },
  {
   "cell_type": "code",
   "execution_count": null,
   "metadata": {
    "ExecuteTime": {
     "end_time": "2021-03-28T12:39:51.015312Z",
     "start_time": "2021-03-28T12:39:50.925968Z"
    }
   },
   "outputs": [],
   "source": [
    "if not os.path.exists('init.py'):\n",
    "    init = os.path.join(pema.__path__[0], '..', 'bin', \"pema_init.py\")\n",
    "    !ln -s $init init.py\n",
    "%run init.py"
   ]
  },
  {
   "cell_type": "code",
   "execution_count": null,
   "metadata": {
    "ExecuteTime": {
     "end_time": "2021-03-28T12:39:51.019498Z",
     "start_time": "2021-03-28T12:39:51.016726Z"
    }
   },
   "outputs": [],
   "source": [
    "base_dir = '/mnt/d/pema/'\n",
    "data_name = f'pema_test_{pema.__version__}'\n",
    "fig_dir = os.path.join(base_dir, f'figures_summary_{data_name}')\n",
    "data_dir = os.path.join(base_dir, 'processed_data')\n",
    "raw_data_dir = os.path.join(base_dir, 'raw_data')\n",
    "instructions_csv = f\"./inst_{data_name}.csv\"\n",
    "\n",
    "# Output naming\n",
    "default_label = 'Normal clustering'\n",
    "custom_label = 'Changed clustering'"
   ]
  },
  {
   "cell_type": "markdown",
   "metadata": {},
   "source": [
    "**Initialize the wavefrom simulator with KR instructions**"
   ]
  },
  {
   "cell_type": "code",
   "execution_count": null,
   "metadata": {
    "ExecuteTime": {
     "end_time": "2021-03-28T12:39:51.031989Z",
     "start_time": "2021-03-28T12:39:51.020878Z"
    }
   },
   "outputs": [],
   "source": [
    "run_list = list(f'{r:06}' for r in range(11665,11665+6))\n",
    "run_list"
   ]
  },
  {
   "cell_type": "code",
   "execution_count": null,
   "metadata": {
    "ExecuteTime": {
     "end_time": "2021-03-28T12:39:51.041193Z",
     "start_time": "2021-03-28T12:39:51.035298Z"
    }
   },
   "outputs": [],
   "source": [
    "# Just some id which allows CMT to load\n",
    "run_id = run_list[0]"
   ]
  },
  {
   "cell_type": "code",
   "execution_count": null,
   "metadata": {
    "ExecuteTime": {
     "end_time": "2021-03-28T12:39:51.051750Z",
     "start_time": "2021-03-28T12:39:51.045360Z"
    }
   },
   "outputs": [],
   "source": [
    "# setting up instructions like this may take a while. You can set e.g. \n",
    "instructions = dict(\n",
    "    event_rate=100, # Don't make too large -> overlapping truth info\n",
    "    chunk_size=5, # keep large -> less overhead but takes more RAM\n",
    "    nchunk=100, # set to 100\n",
    "    photons_low=1, #PE\n",
    "    photons_high=100, #PE\n",
    "    electrons_low=1, #\n",
    "    electrons_high=100,\n",
    "    tpc_radius=straxen.tpc_r,\n",
    "    tpc_length=148.1, # TPC length approx\n",
    "    drift_field = 18.5, # V/cm VERIFY!\n",
    "    timing = 'uniform', #Double S1 peaks uniform over time   \n",
    ")\n",
    "fax_override = {\n",
    "    's1_pattern_map' : ntauxfiles.get_abspath('XENONnT_s1_xyz_patterns_LCE_corrected_qes_MCva43fa9b_wires.pkl'),\n",
    "    's2_pattern_map' : ntauxfiles.get_abspath('XENONnT_s2_xy_patterns_LCE_corrected_qes_MCva43fa9b_wires.pkl')}"
   ]
  },
  {
   "cell_type": "markdown",
   "metadata": {},
   "source": [
    "## write instructions to CSV"
   ]
  },
  {
   "cell_type": "code",
   "execution_count": null,
   "metadata": {
    "ExecuteTime": {
     "end_time": "2021-03-28T12:39:51.502725Z",
     "start_time": "2021-03-28T12:39:51.054060Z"
    }
   },
   "outputs": [],
   "source": [
    "pema.inst_to_csv(\n",
    "    instructions, \n",
    "    instructions_csv, \n",
    "    get_inst_from = pema.rand_instructions)"
   ]
  },
  {
   "cell_type": "code",
   "execution_count": null,
   "metadata": {
    "ExecuteTime": {
     "end_time": "2021-03-28T12:39:51.506640Z",
     "start_time": "2021-03-28T12:39:51.504086Z"
    }
   },
   "outputs": [],
   "source": [
    "# TODO can we add noise?\n",
    "config_update = dict(\n",
    "    detector='XENONnT',\n",
    "    fax_file=os.path.abspath(instructions_csv),\n",
    "    fax_config='fax_config_nt_low_field.json',\n",
    "    fax_config_override=fax_override,\n",
    ")"
   ]
  },
  {
   "cell_type": "code",
   "execution_count": null,
   "metadata": {
    "ExecuteTime": {
     "end_time": "2021-03-28T12:39:51.520121Z",
     "start_time": "2021-03-28T12:39:51.508105Z"
    }
   },
   "outputs": [],
   "source": [
    "st = pema.pema_context(base_dir=base_dir,\n",
    "                       config_update=config_update,\n",
    "                       raw_dir=raw_data_dir,\n",
    "                       data_dir=data_dir)"
   ]
  },
  {
   "cell_type": "code",
   "execution_count": null,
   "metadata": {
    "ExecuteTime": {
     "end_time": "2021-03-28T12:39:51.530167Z",
     "start_time": "2021-03-28T12:39:51.521713Z"
    }
   },
   "outputs": [],
   "source": [
    "st.set_context_config(\n",
    "    {'allow_shm': True,\n",
    "     'allow_lazy': False,\n",
    "     'timeout': 300,\n",
    "     'max_messages': 10,\n",
    "    }\n",
    ")"
   ]
  },
  {
   "cell_type": "code",
   "execution_count": null,
   "metadata": {
    "ExecuteTime": {
     "end_time": "2021-03-28T12:39:51.538518Z",
     "start_time": "2021-03-28T12:39:51.531660Z"
    }
   },
   "outputs": [],
   "source": [
    "st.set_config({'s2_merge_max_duration': 30000})\n",
    "summary_config = {\n",
    "    's2_merge_max_duration': 30000,\n",
    "    's2_merge_max_gap': 5000,\n",
    "    'peaklet_gap_threshold': 525\n",
    "                 }\n",
    "st.set_config(summary_config)"
   ]
  },
  {
   "cell_type": "code",
   "execution_count": null,
   "metadata": {
    "ExecuteTime": {
     "end_time": "2021-03-28T12:39:51.550480Z",
     "start_time": "2021-03-28T12:39:51.539982Z"
    }
   },
   "outputs": [],
   "source": [
    "run_list"
   ]
  },
  {
   "cell_type": "code",
   "execution_count": null,
   "metadata": {
    "ExecuteTime": {
     "end_time": "2021-03-28T12:39:52.500668Z",
     "start_time": "2021-03-28T12:39:51.552539Z"
    }
   },
   "outputs": [],
   "source": [
    "jobs = []\n",
    "for r in run_list:\n",
    "    script_writer = pema.ProcessRun(st, r, \n",
    "                                    ('raw_records', 'records', \n",
    "                                     'peaklets', 'peaks_matched',\n",
    "                                     'event_info'))\n",
    "    cmd, name = script_writer.make_cmd()\n",
    "    ret = script_writer.exec_local(cmd, name)\n",
    "    jobs.append(script_writer)"
   ]
  },
  {
   "cell_type": "code",
   "execution_count": null,
   "metadata": {},
   "outputs": [],
   "source": []
  },
  {
   "cell_type": "code",
   "execution_count": null,
   "metadata": {
    "ExecuteTime": {
     "end_time": "2021-03-28T12:40:09.684405Z",
     "start_time": "2021-03-28T12:39:52.508245Z"
    }
   },
   "outputs": [],
   "source": [
    "for j in jobs:\n",
    "    j.log_file.communicate()"
   ]
  },
  {
   "cell_type": "code",
   "execution_count": null,
   "metadata": {
    "ExecuteTime": {
     "end_time": "2021-03-28T12:40:09.690405Z",
     "start_time": "2021-03-28T12:40:09.685935Z"
    }
   },
   "outputs": [],
   "source": [
    "script_writer = pema.ProcessRun(st, run_list, ('raw_records', 'records', 'peaklets', 'peaks_matched', 'event_info'))"
   ]
  },
  {
   "cell_type": "code",
   "execution_count": null,
   "metadata": {
    "ExecuteTime": {
     "end_time": "2021-03-25T16:31:02.237184Z",
     "start_time": "2021-03-25T16:31:02.055537Z"
    }
   },
   "outputs": [],
   "source": []
  },
  {
   "cell_type": "code",
   "execution_count": null,
   "metadata": {
    "ExecuteTime": {
     "end_time": "2021-03-28T12:40:09.708939Z",
     "start_time": "2021-03-28T12:40:09.692325Z"
    }
   },
   "outputs": [],
   "source": [
    "# script_writer.log_file.communicate()"
   ]
  },
  {
   "cell_type": "code",
   "execution_count": null,
   "metadata": {
    "ExecuteTime": {
     "end_time": "2021-03-28T12:40:10.652761Z",
     "start_time": "2021-03-28T12:40:09.711726Z"
    }
   },
   "outputs": [],
   "source": [
    "script_writer.all_stored()"
   ]
  },
  {
   "cell_type": "code",
   "execution_count": null,
   "metadata": {
    "ExecuteTime": {
     "end_time": "2021-03-28T12:40:10.657560Z",
     "start_time": "2021-03-28T12:40:10.654131Z"
    }
   },
   "outputs": [],
   "source": [
    "environ_init = '''eval \"$(/home/angevaare/software/Miniconda3/bin/conda shell.bash hook)\"\n",
    "conda activate strax\n",
    "export PATH=/home/angevaare/software/Miniconda3/envs/strax/bin:$PATH'''\n",
    "environ_init"
   ]
  },
  {
   "cell_type": "code",
   "execution_count": null,
   "metadata": {},
   "outputs": [],
   "source": []
  },
  {
   "cell_type": "markdown",
   "metadata": {},
   "source": [
    "# Submit the scripts\n",
    "First we need to do records, then we can do peaklets (affected by clustering) after that."
   ]
  },
  {
   "cell_type": "markdown",
   "metadata": {},
   "source": [
    "# Make configs for the parameters to change\n",
    "Let's loop over the options we want to scan. We will write those to a dict and work from there."
   ]
  },
  {
   "cell_type": "code",
   "execution_count": null,
   "metadata": {
    "ExecuteTime": {
     "end_time": "2021-03-28T12:40:10.665892Z",
     "start_time": "2021-03-28T12:40:10.659576Z"
    }
   },
   "outputs": [],
   "source": [
    "opts = st.show_config('peaks')[['option', 'default', 'current']].to_records()"
   ]
  },
  {
   "cell_type": "code",
   "execution_count": null,
   "metadata": {
    "ExecuteTime": {
     "end_time": "2021-03-28T12:40:10.675434Z",
     "start_time": "2021-03-28T12:40:10.670959Z"
    }
   },
   "outputs": [],
   "source": [
    "options = opts['option']\n",
    "values = opts['default']\n",
    "current = opts['current']\n",
    "mask = current != '<OMITTED>'\n",
    "values[mask] = current[mask]\n",
    "res = {k: v for (k, v) in zip(options, values)}"
   ]
  },
  {
   "cell_type": "code",
   "execution_count": null,
   "metadata": {
    "ExecuteTime": {
     "end_time": "2021-03-28T12:40:10.684248Z",
     "start_time": "2021-03-28T12:40:10.680032Z"
    }
   },
   "outputs": [],
   "source": [
    "keep_keys = [\n",
    " 'peaklet_gap_threshold',\n",
    " 'peak_left_extension',\n",
    " 'peak_right_extension',\n",
    " 'peak_min_pmts',\n",
    " 'peak_split_filter_wing_width',\n",
    " 'peak_split_min_area',\n",
    " 'peak_split_iterations',\n",
    " 'tight_coincidence_window_left',\n",
    " 'tight_coincidence_window_right',\n",
    " 's1_max_rise_time',\n",
    " 's1_max_rise_time_post100',\n",
    " 's1_min_coincidence',\n",
    " 's2_min_pmts',\n",
    " 's2_merge_max_area',\n",
    " 's2_merge_max_gap',\n",
    " 's2_merge_max_duration']"
   ]
  },
  {
   "cell_type": "code",
   "execution_count": null,
   "metadata": {
    "ExecuteTime": {
     "end_time": "2021-03-28T12:40:10.694912Z",
     "start_time": "2021-03-28T12:40:10.685610Z"
    }
   },
   "outputs": [],
   "source": [
    "res = {k: v for (k,v )in res.items() if k in keep_keys}\n",
    "summary_config = res.copy()\n",
    "res"
   ]
  },
  {
   "cell_type": "code",
   "execution_count": null,
   "metadata": {
    "ExecuteTime": {
     "end_time": "2021-03-28T12:40:11.142871Z",
     "start_time": "2021-03-28T12:40:10.697226Z"
    }
   },
   "outputs": [],
   "source": [
    "conf_tot = [{}]\n",
    "i=0\n",
    "keys_seen = []\n",
    "_st = st.new_context()\n",
    "for k, v in summary_config.items():\n",
    "    _type = type(v)\n",
    "    for factor in [#5, \n",
    "                   2, 1.5, 1.25, 1.1, 1, 1/1.1, 1/1.25, 1/1.5, 1/2, \n",
    "#                     1/5\n",
    "    ]:\n",
    "        value = _type(v*factor)\n",
    "        conf = {k: value}\n",
    "        _st.set_config(conf)\n",
    "        ev_key = _st.key_for('0', 'events')\n",
    "\n",
    "        if str(ev_key) in keys_seen and factor != 1:\n",
    "            continue\n",
    "        else:\n",
    "            conf_tot.append(conf)\n",
    "            keys_seen.append(str(ev_key))\n",
    "\n",
    "confs = tuple(conf_tot.copy())\n",
    "len(conf_tot)\n",
    "# confs"
   ]
  },
  {
   "cell_type": "code",
   "execution_count": null,
   "metadata": {
    "ExecuteTime": {
     "end_time": "2021-03-28T12:40:11.150835Z",
     "start_time": "2021-03-28T12:40:11.144964Z"
    }
   },
   "outputs": [],
   "source": [
    "confs"
   ]
  },
  {
   "cell_type": "markdown",
   "metadata": {},
   "source": [
    "# Submit the logs"
   ]
  },
  {
   "cell_type": "code",
   "execution_count": null,
   "metadata": {
    "ExecuteTime": {
     "end_time": "2021-03-28T12:40:11.160233Z",
     "start_time": "2021-03-28T12:40:11.152290Z"
    }
   },
   "outputs": [],
   "source": [
    "run_list"
   ]
  },
  {
   "cell_type": "code",
   "execution_count": null,
   "metadata": {
    "ExecuteTime": {
     "end_time": "2021-03-28T12:40:11.172080Z",
     "start_time": "2021-03-28T12:40:11.162398Z"
    },
    "code_folding": []
   },
   "outputs": [],
   "source": [
    "# wanna start small?\n",
    "selected_runs = [r for r in run_list if st.is_stored(r, 'records')]\n",
    "print(f'Doing runs:\\n{selected_runs}\\n{len(selected_runs)/len(run_list)*100:.1f}%')\n",
    "all_runs = len(selected_runs) == len(run_list)"
   ]
  },
  {
   "cell_type": "code",
   "execution_count": null,
   "metadata": {
    "ExecuteTime": {
     "end_time": "2021-03-28T12:40:11.181288Z",
     "start_time": "2021-03-28T12:40:11.173736Z"
    }
   },
   "outputs": [],
   "source": [
    "confs"
   ]
  },
  {
   "cell_type": "code",
   "execution_count": null,
   "metadata": {
    "ExecuteTime": {
     "end_time": "2021-03-28T12:40:11.190280Z",
     "start_time": "2021-03-28T12:40:11.182979Z"
    }
   },
   "outputs": [],
   "source": [
    "import psutil\n",
    "# psutil.cpu_percent()\n",
    "def get_mem():\n",
    "    psutil.virtual_memory()\n",
    "    # you can convert that object to a dictionary \n",
    "    dict(psutil.virtual_memory()._asdict())\n",
    "    # you can have the percentage of used RAM\n",
    "    return psutil.virtual_memory().percent"
   ]
  },
  {
   "cell_type": "code",
   "execution_count": null,
   "metadata": {
    "ExecuteTime": {
     "end_time": "2021-03-28T13:31:29.045206Z",
     "start_time": "2021-03-28T12:40:11.192346Z"
    },
    "scrolled": true
   },
   "outputs": [],
   "source": [
    "job_registry = []\n",
    "target = ('raw_records', 'records', \n",
    "    'peaklets',\n",
    "    'peak_basics',\n",
    "#     'events',\n",
    "    'truth_matched', \n",
    "    'match_acceptance_extended',\n",
    ")\n",
    "RAM = 15000\n",
    "queue_max = 200\n",
    "check_que_after = 50\n",
    "part = 'xenon1t'\n",
    "\n",
    "\n",
    "for i, conf in enumerate(tqdm(confs, desc='configs')):\n",
    "    job = pema.ProcessRun(st, run_id=run_list, target=target, config=conf)\n",
    "    cmd, job_name = job.make_cmd()\n",
    "\n",
    "    job_registry.append(job)\n",
    "\n",
    "\n",
    "#         job.exec_dali(cmd, \n",
    "#                       job_name, \n",
    "#                       bash_activate = environ_init\n",
    "#                      ram = RAM,\n",
    "#                      partition = part\n",
    "#                      max_hours= '04:00:00')\n",
    "    if not job.all_stored(return_bool=True):\n",
    "#             cmd=cmd.replace('  ', ' ')\n",
    "#             p = subprocess.Popen(cmd.split(' '), \n",
    "#                                      stdout=subprocess.PIPE, \n",
    "#                                      stderr=subprocess.PIPE, \n",
    "#                                      universal_newlines=True)\n",
    "#             ps.append(p)\n",
    "#             pass\n",
    "        job.exec_local(cmd, job_name)\n",
    "        while get_mem()>90 or psutil.cpu_percent()>90:\n",
    "            time.sleep(1)\n",
    "#         job.log_file.communicate() \n",
    "#         if i % check_que_after:\n",
    "#             q = !squeue -u `echo $USER` | grep $part\n",
    "#             while len(q)> queue_max:\n",
    "#                 q = !squeue -u `echo $USER` | grep $part\n",
    "#                 print(f'waiting 10s, queue is full. {len(q)}')\n",
    "#                 time.sleep(10)"
   ]
  },
  {
   "cell_type": "code",
   "execution_count": null,
   "metadata": {
    "ExecuteTime": {
     "end_time": "2021-03-28T13:31:29.148174Z",
     "start_time": "2021-03-28T13:31:29.068498Z"
    }
   },
   "outputs": [],
   "source": [
    "psutil.cpu_percent()"
   ]
  },
  {
   "cell_type": "code",
   "execution_count": null,
   "metadata": {
    "ExecuteTime": {
     "end_time": "2021-03-28T18:17:28.195255Z",
     "start_time": "2021-03-28T13:31:29.228263Z"
    }
   },
   "outputs": [],
   "source": [
    "[j.log_file.communicate() for j in tqdm(job_registry) if j.log_file is not None];"
   ]
  },
  {
   "cell_type": "code",
   "execution_count": null,
   "metadata": {
    "ExecuteTime": {
     "end_time": "2021-03-28T18:17:28.205055Z",
     "start_time": "2021-03-28T18:17:28.196897Z"
    }
   },
   "outputs": [],
   "source": [
    "pd.set_option('display.max_rows', 500)"
   ]
  },
  {
   "cell_type": "code",
   "execution_count": null,
   "metadata": {
    "ExecuteTime": {
     "end_time": "2021-03-28T18:18:33.287794Z",
     "start_time": "2021-03-28T18:17:28.207463Z"
    }
   },
   "outputs": [],
   "source": [
    "pd.concat([j.all_stored() for j in job_registry])"
   ]
  },
  {
   "cell_type": "code",
   "execution_count": null,
   "metadata": {
    "ExecuteTime": {
     "end_time": "2021-03-28T18:18:59.225125Z",
     "start_time": "2021-03-28T18:18:33.289301Z"
    },
    "scrolled": true
   },
   "outputs": [],
   "source": [
    "pd.concat([j.all_stored(show_key=True) for j in job_registry])"
   ]
  },
  {
   "cell_type": "markdown",
   "metadata": {},
   "source": [
    "### Load the simulated data using strax (\"default\")"
   ]
  },
  {
   "cell_type": "markdown",
   "metadata": {},
   "source": [
    "### Load the simulated data using different config parameters\n",
    "Let's copy the old context and run with different settings"
   ]
  },
  {
   "cell_type": "code",
   "execution_count": null,
   "metadata": {
    "ExecuteTime": {
     "end_time": "2021-03-28T18:18:59.233117Z",
     "start_time": "2021-03-28T18:18:59.226649Z"
    }
   },
   "outputs": [],
   "source": [
    "def compute_acceptance(data):\n",
    "    total = len(data)\n",
    "    found = np.sum(data['acceptance_fraction'])\n",
    "    return found/total, pema.binom_interval(found, total)"
   ]
  },
  {
   "cell_type": "code",
   "execution_count": null,
   "metadata": {
    "ExecuteTime": {
     "end_time": "2021-03-28T18:18:59.250847Z",
     "start_time": "2021-03-28T18:18:59.248322Z"
    }
   },
   "outputs": [],
   "source": [
    "from collections import defaultdict"
   ]
  },
  {
   "cell_type": "code",
   "execution_count": null,
   "metadata": {
    "ExecuteTime": {
     "end_time": "2021-03-28T18:22:07.857392Z",
     "start_time": "2021-03-28T18:18:59.271386Z"
    },
    "scrolled": true
   },
   "outputs": [],
   "source": [
    "res = defaultdict(list)\n",
    "\n",
    "for i, job in enumerate(tqdm(job_registry)):\n",
    "    config = job.config\n",
    "    if config in res['config']:\n",
    "        continue\n",
    "    elif np.sum([job.all_stored()[t] for t in job.target]) < len(job.target):\n",
    "        continue\n",
    "    \n",
    "    try:\n",
    "        data = job.st.get_array(run_list, 'match_acceptance_extended', progress_bar=False)\n",
    "    except (AssertionError, TypeError):\n",
    "        continue\n",
    "    res['number'].append(i)\n",
    "    res['config'].append(config)\n",
    "    res['config_type'].append(list(config.keys()))\n",
    "    for si in range(1,3):\n",
    "        sel = data['type'] == si\n",
    "        acceptance, (low, high) = compute_acceptance(data[sel])\n",
    "        res[f's{si}_acc'].append(acceptance)\n",
    "        res[f's{si}_err'].append([acceptance-low, high-acceptance])"
   ]
  },
  {
   "cell_type": "code",
   "execution_count": null,
   "metadata": {
    "ExecuteTime": {
     "end_time": "2021-03-28T18:22:07.980106Z",
     "start_time": "2021-03-28T18:22:07.859127Z"
    }
   },
   "outputs": [],
   "source": [
    "df = pd.DataFrame(res)\n",
    "df"
   ]
  },
  {
   "cell_type": "code",
   "execution_count": null,
   "metadata": {
    "ExecuteTime": {
     "end_time": "2021-03-28T18:22:33.363226Z",
     "start_time": "2021-03-28T18:22:07.981676Z"
    },
    "scrolled": false
   },
   "outputs": [],
   "source": [
    "for config_type in np.unique(df['config_type'].values):\n",
    "    if not config_type:\n",
    "        continue\n",
    "    print(config_type)\n",
    "    mask = np.array([c == config_type for c in  df['config_type']])\n",
    "    plot_kwargs = dict(markersize= 5,  ls='none', capsize=3, marker='o')\n",
    "    fig = plt.figure(figsize=(10,6))\n",
    "    plt.title(f'S1/S2 acceptance - {config_type}')\n",
    "    colors = ('#1f77b4', '#ff7f0e')\n",
    "    for axi, si in enumerate([1, 2]):\n",
    "        if axi ==1:\n",
    "            plt.sca(plt.gca().twinx())\n",
    "            plt.xticks()\n",
    "        plt.errorbar(df[mask]['number'], \n",
    "                     df[mask][f's{si}_acc'], \n",
    "                     yerr=np.array([e for e in df[mask][f's{si}_err']]).T,\n",
    "                     label = f'S{si} acceptance',\n",
    "                     c = colors[axi],\n",
    "                     **plot_kwargs,\n",
    "                    )\n",
    "        plt.axhline(df[f's{si}_acc'][0], ls = '--', c = colors[axi], label=f'default S{si} acceptance')\n",
    "        plt.ylabel(f'S{si} acceptance')\n",
    "        plt.gca().yaxis.label.set_color(colors[axi])\n",
    "        plt.gca().tick_params(axis='y', colors=colors[axi])\n",
    "        if axi==0:\n",
    "            plt.xticks(df[mask]['number'], \n",
    "                       df[mask]['config'], \n",
    "                       rotation = 45, ha='right')\n",
    "    fig.legend(loc=5)\n",
    "    pema.save_canvas(f'{config_type}_scan', save_dir=os.path.join(fig_dir, 'scan'))"
   ]
  }
 ],
 "metadata": {
  "kernelspec": {
   "display_name": "Python 3",
   "language": "python",
   "name": "python3"
  },
  "language_info": {
   "codemirror_mode": {
    "name": "ipython",
    "version": 3
   },
   "file_extension": ".py",
   "mimetype": "text/x-python",
   "name": "python",
   "nbconvert_exporter": "python",
   "pygments_lexer": "ipython3",
   "version": "3.8.5"
  },
  "latex_envs": {
   "LaTeX_envs_menu_present": true,
   "autoclose": false,
   "autocomplete": true,
   "bibliofile": "biblio.bib",
   "cite_by": "apalike",
   "current_citInitial": 1,
   "eqLabelWithNumbers": true,
   "eqNumInitial": 1,
   "hotkeys": {
    "equation": "Ctrl-E",
    "itemize": "Ctrl-I"
   },
   "labels_anchors": false,
   "latex_user_defs": false,
   "report_style_numbering": false,
   "user_envs_cfg": false
  },
  "varInspector": {
   "cols": {
    "lenName": 16,
    "lenType": 16,
    "lenVar": 40
   },
   "kernels_config": {
    "python": {
     "delete_cmd_postfix": "",
     "delete_cmd_prefix": "del ",
     "library": "var_list.py",
     "varRefreshCmd": "print(var_dic_list())"
    },
    "r": {
     "delete_cmd_postfix": ") ",
     "delete_cmd_prefix": "rm(",
     "library": "var_list.r",
     "varRefreshCmd": "cat(var_dic_list()) "
    }
   },
   "types_to_exclude": [
    "module",
    "function",
    "builtin_function_or_method",
    "instance",
    "_Feature"
   ],
   "window_display": false
  },
  "widgets": {
   "state": {
    "a26e7f9ab967429687376a4127408b3b": {
     "views": [
      {
       "cell_index": 9
      }
     ]
    }
   },
   "version": "1.2.0"
  }
 },
 "nbformat": 4,
 "nbformat_minor": 4
}
