{
 "cells": [
  {
   "cell_type": "markdown",
   "metadata": {},
   "source": [
    "# Run pema\n",
    "\n",
    "Authors:\n",
    " - Angevaare, Joran <j.angevaare@nikhef.nl> (based on the Peak_Classification_Tester) \n"
   ]
  },
  {
   "cell_type": "markdown",
   "metadata": {},
   "source": [
    "## This notebook ##\n",
    "\n",
    "**Goal**\n",
    " - See how clustering and classification may be improved by Kr simulations?\n",
    "\n",
    "**Known issues**\n",
    " -\n"
   ]
  },
  {
   "cell_type": "markdown",
   "metadata": {},
   "source": [
    "**Start up ``strax`` + load tools**"
   ]
  },
  {
   "cell_type": "code",
   "execution_count": null,
   "metadata": {
    "ExecuteTime": {
     "end_time": "2021-04-22T08:28:34.831715Z",
     "start_time": "2021-04-22T08:28:19.130500Z"
    }
   },
   "outputs": [],
   "source": [
    "import pema\n",
    "import os"
   ]
  },
  {
   "cell_type": "code",
   "execution_count": null,
   "metadata": {
    "ExecuteTime": {
     "end_time": "2021-04-22T08:28:34.964420Z",
     "start_time": "2021-04-22T08:28:34.841713Z"
    }
   },
   "outputs": [],
   "source": [
    "if not os.path.exists('init.py'):\n",
    "    init = os.path.join(pema.__path__[0], '..', 'bin', \"pema_init.py\")\n",
    "    !ln -s $init init.py\n",
    "%run init.py"
   ]
  },
  {
   "cell_type": "markdown",
   "metadata": {},
   "source": [
    "### Initialize the wavefrom simulator with your instructions\n",
    "Initialize either of\n",
    " - [Low E](setup_lowe.py)\n",
    " - [High E](setup_highe.py)\n",
    " - [Kr](setup_kr.py)"
   ]
  },
  {
   "cell_type": "code",
   "execution_count": null,
   "metadata": {
    "ExecuteTime": {
     "end_time": "2021-04-22T08:28:35.457392Z",
     "start_time": "2021-04-22T08:28:34.973387Z"
    }
   },
   "outputs": [],
   "source": [
    "%run setup_lowe.py"
   ]
  },
  {
   "cell_type": "markdown",
   "metadata": {},
   "source": [
    "## write instructions to CSV"
   ]
  },
  {
   "cell_type": "code",
   "execution_count": null,
   "metadata": {
    "ExecuteTime": {
     "end_time": "2021-04-22T08:28:35.480622Z",
     "start_time": "2021-04-22T08:28:35.461449Z"
    }
   },
   "outputs": [],
   "source": [
    "def get_context(skip=None):\n",
    "    st = pema.pema_context(base_dir=base_dir,\n",
    "                           config_update=config_update,\n",
    "                           raw_dir=raw_data_dir,\n",
    "                           data_dir=data_dir)\n",
    "    update = {}\n",
    "    for k, v in update.items():\n",
    "        if skip is not None and k in skip:\n",
    "            print(f'skip {k}')\n",
    "        else:\n",
    "            st.set_config({k:v})\n",
    "    st.set_context_config(\n",
    "        {'allow_shm': True,\n",
    "         'allow_lazy': False,\n",
    "         'timeout': 300,\n",
    "         'max_messages': 10,\n",
    "    })\n",
    "    return st\n",
    "st = get_context()"
   ]
  },
  {
   "cell_type": "code",
   "execution_count": null,
   "metadata": {
    "ExecuteTime": {
     "end_time": "2021-04-22T08:25:44.343443Z",
     "start_time": "2021-04-22T08:25:42.131468Z"
    }
   },
   "outputs": [],
   "source": [
    "job_registry=[]\n",
    "for r in run_list:\n",
    "    print(r)\n",
    "    job = pema.ProcessRun(st, \n",
    "                          run_id=r, \n",
    "                          target=('records', 'peaklets'), \n",
    "                          config={})\n",
    "    job_registry.append(job)\n",
    "\n",
    "    cmd, job_name = job.make_cmd()\n",
    "    job.exec_dali(cmd, job_name, environ_init, mem=30_000, max_hours='08:00:00')\n"
   ]
  },
  {
   "cell_type": "code",
   "execution_count": null,
   "metadata": {
    "ExecuteTime": {
     "end_time": "2021-04-22T08:25:47.039415Z",
     "start_time": "2021-04-22T08:25:44.347577Z"
    }
   },
   "outputs": [],
   "source": [
    "# When working locally\n",
    "for j in job_registry:\n",
    "    log=j.log_file\n",
    "    !tail -10 $log"
   ]
  },
  {
   "cell_type": "code",
   "execution_count": null,
   "metadata": {
    "ExecuteTime": {
     "end_time": "2021-04-22T08:25:47.059679Z",
     "start_time": "2021-04-22T08:25:47.042712Z"
    }
   },
   "outputs": [],
   "source": [
    "script_writer = pema.ProcessRun(\n",
    "    st,\n",
    "    run_list,    \n",
    "    ('raw_records', 'records', 'peaklets', 'peaks_matched', 'event_info'))"
   ]
  },
  {
   "cell_type": "code",
   "execution_count": null,
   "metadata": {
    "ExecuteTime": {
     "end_time": "2021-04-22T08:25:50.426195Z",
     "start_time": "2021-04-22T08:25:47.067277Z"
    }
   },
   "outputs": [],
   "source": [
    "script_writer.all_stored()"
   ]
  },
  {
   "cell_type": "markdown",
   "metadata": {},
   "source": [
    "# Submit the scripts\n",
    "First we need to do records, then we can do peaklets (affected by clustering) after that."
   ]
  },
  {
   "cell_type": "markdown",
   "metadata": {},
   "source": [
    "# Make configs for the parameters to change\n",
    "Let's loop over the options we want to scan. We will write those to a dict and work from there."
   ]
  },
  {
   "cell_type": "code",
   "execution_count": null,
   "metadata": {
    "ExecuteTime": {
     "end_time": "2021-04-22T08:25:50.437370Z",
     "start_time": "2021-04-22T08:25:50.429888Z"
    }
   },
   "outputs": [],
   "source": [
    "opts = st.show_config('peaks')\n",
    "opts = opts[opts['applies_to'] == ('peaklets', 'lone_hits')]\n",
    "opts = opts.to_records()"
   ]
  },
  {
   "cell_type": "code",
   "execution_count": null,
   "metadata": {
    "ExecuteTime": {
     "end_time": "2021-04-22T08:25:50.444564Z",
     "start_time": "2021-04-22T08:25:50.441183Z"
    }
   },
   "outputs": [],
   "source": [
    "options = opts['option']\n",
    "values = opts['default']\n",
    "current = opts['current']\n",
    "mask = current != '<OMITTED>'\n",
    "values[mask] = current[mask]\n",
    "res = {k: v for (k, v) in zip(options, values)}"
   ]
  },
  {
   "cell_type": "code",
   "execution_count": null,
   "metadata": {
    "ExecuteTime": {
     "end_time": "2021-04-22T08:25:50.453007Z",
     "start_time": "2021-04-22T08:25:50.448209Z"
    }
   },
   "outputs": [],
   "source": [
    "list(res.keys())"
   ]
  },
  {
   "cell_type": "code",
   "execution_count": null,
   "metadata": {
    "ExecuteTime": {
     "end_time": "2021-04-22T08:25:50.459452Z",
     "start_time": "2021-04-22T08:25:50.456396Z"
    }
   },
   "outputs": [],
   "source": [
    "keep_keys = [\n",
    " 'peaklet_gap_threshold',\n",
    " 'peak_left_extension',\n",
    " 'peak_right_extension',\n",
    " 'peak_split_filter_wing_width',\n",
    " 'peak_split_min_area',\n",
    " 'peak_split_iterations',\n",
    " 'tight_coincidence_window_left',\n",
    " 'tight_coincidence_window_right',\n",
    " 's1_max_rise_time',\n",
    " 's1_max_rise_time_post100',\n",
    " 's2_merge_max_area',\n",
    " 's2_merge_max_gap',\n",
    " 's2_merge_max_duration'\n",
    "]"
   ]
  },
  {
   "cell_type": "code",
   "execution_count": null,
   "metadata": {
    "ExecuteTime": {
     "end_time": "2021-04-22T08:25:50.468459Z",
     "start_time": "2021-04-22T08:25:50.462902Z"
    }
   },
   "outputs": [],
   "source": [
    "res = {k: v for (k,v )in res.items() if k in keep_keys}\n",
    "summary_config = res.copy()\n",
    "res"
   ]
  },
  {
   "cell_type": "code",
   "execution_count": null,
   "metadata": {
    "ExecuteTime": {
     "end_time": "2021-04-22T08:25:50.552547Z",
     "start_time": "2021-04-22T08:25:50.471960Z"
    }
   },
   "outputs": [],
   "source": [
    "def validate_conf(conf):\n",
    "    \"\"\"Check right\"\"\"\n",
    "    gap_threshold = conf.get('peaklet_gap_threshold', res.get('peaklet_gap_threshold', 350))\n",
    "    left_extension = conf.get('peak_left_extension', res.get('peak_left_extension', 30))\n",
    "    right_extension = conf.get('peak_right_extension', res.get('peak_right_extension', 350))\n",
    "    return gap_threshold > left_extension + right_extension\n",
    "\n",
    "conf_tot = [{}]\n",
    "i=0\n",
    "keys_seen = []\n",
    "_st = st.new_context()\n",
    "for k, v in summary_config.items():\n",
    "    if k == 'peak_split_gof_threshold': \n",
    "        continue\n",
    "    _type = type(v)\n",
    "    for factor in [\n",
    "        #2.5, 2, 1.5, 1.25, \n",
    "                   1.1, 1, 1/1.1,\n",
    "#                    1/1.25, 1/1.5, 1/2, 1/2.5\n",
    "    ]:\n",
    "        value = _type(v*factor)\n",
    "        conf = {k: value}\n",
    "        if not validate_conf(conf):\n",
    "            print(f'skip {conf}')\n",
    "            continue\n",
    "        _st.set_config(conf)\n",
    "        ev_key = _st.key_for('0', 'events')\n",
    "\n",
    "        if str(ev_key) in keys_seen and factor != 1:\n",
    "            continue\n",
    "        else:\n",
    "            conf_tot.append(conf)\n",
    "            keys_seen.append(str(ev_key))\n",
    "\n",
    "# factors = [1.5, \n",
    "#            1.25, 1, 0.8, \n",
    "#            0.5\n",
    "# ]\n",
    "# few_factors = [1.25, 1, 0.8]\n",
    "# for fa in factors:\n",
    "#     for fb in factors:\n",
    "#         for fc in few_factors:\n",
    "#             for fd in few_factors:\n",
    "#                 for fx in few_factors:\n",
    "#                     for fy in factors:\n",
    "#                         for fz in few_factors:\n",
    "#                             for fw in few_factors:\n",
    "#                                 if not fa+fb+fc+fd+fx+fy+fz+fw in 7 + np.array(factors):\n",
    "#                                     continue\n",
    "#                                 if fa >1 or fb>1 or fc>1 or fd>1:\n",
    "#                                     continue\n",
    "# #                                 if fc!=1 or fw != 1:\n",
    "# #                                     continue\n",
    "#                                 value = (None, \n",
    "#                                          ((0.5*fx, 1*fa), (6.0*fy, 0.4*fb)), \n",
    "#                                          ((2.*fz, 1*fc), (4.5*fw, 0.4*fd)))\n",
    "#                                 conf = {'peak_split_gof_threshold': value}\n",
    "#                                 _st.set_config(conf)\n",
    "#                                 ev_key = _st.key_for('0', 'events')\n",
    "\n",
    "#                                 if str(ev_key) in keys_seen:\n",
    "#                                     continue\n",
    "#                                 else:\n",
    "#                                     conf_tot.append(conf)\n",
    "#                                     keys_seen.append(str(ev_key))\n",
    "\n",
    "confs = tuple(conf_tot.copy())\n",
    "len(conf_tot)"
   ]
  },
  {
   "cell_type": "code",
   "execution_count": null,
   "metadata": {
    "ExecuteTime": {
     "end_time": "2021-04-22T08:25:50.560844Z",
     "start_time": "2021-04-22T08:25:50.555872Z"
    }
   },
   "outputs": [],
   "source": [
    "confs"
   ]
  },
  {
   "cell_type": "markdown",
   "metadata": {},
   "source": [
    "# Submit the logs"
   ]
  },
  {
   "cell_type": "code",
   "execution_count": null,
   "metadata": {
    "ExecuteTime": {
     "end_time": "2021-04-22T08:25:50.569605Z",
     "start_time": "2021-04-22T08:25:50.564318Z"
    }
   },
   "outputs": [],
   "source": [
    "run_list"
   ]
  },
  {
   "cell_type": "code",
   "execution_count": null,
   "metadata": {
    "ExecuteTime": {
     "end_time": "2021-04-22T08:25:50.587179Z",
     "start_time": "2021-04-22T08:25:50.572970Z"
    },
    "code_folding": []
   },
   "outputs": [],
   "source": [
    "# wanna start small?\n",
    "selected_runs = [r for r in run_list if st.is_stored(r, 'records')]\n",
    "print(f'Doing runs:\\n{selected_runs}\\n{len(selected_runs)/len(run_list)*100:.1f}%')\n",
    "all_runs = len(selected_runs) == len(run_list)"
   ]
  },
  {
   "cell_type": "code",
   "execution_count": null,
   "metadata": {
    "ExecuteTime": {
     "end_time": "2021-04-22T08:25:50.596531Z",
     "start_time": "2021-04-22T08:25:50.590957Z"
    }
   },
   "outputs": [],
   "source": [
    "confs"
   ]
  },
  {
   "cell_type": "code",
   "execution_count": null,
   "metadata": {
    "ExecuteTime": {
     "end_time": "2021-04-22T08:25:50.609864Z",
     "start_time": "2021-04-22T08:25:50.599770Z"
    }
   },
   "outputs": [],
   "source": [
    "iter_confs = iter(confs)\n",
    "job_registry = []"
   ]
  },
  {
   "cell_type": "code",
   "execution_count": null,
   "metadata": {
    "ExecuteTime": {
     "end_time": "2021-04-22T08:26:26.069603Z",
     "start_time": "2021-04-22T08:25:50.614646Z"
    },
    "scrolled": true
   },
   "outputs": [],
   "source": [
    "target = ('raw_records',\n",
    "          'records', \n",
    "          'peaklets',\n",
    "          'peak_basics',\n",
    "          'match_acceptance_extended',\n",
    ")\n",
    "\n",
    "RAM = 15000\n",
    "queue_max = 110\n",
    "check_que_after = 10\n",
    "part = 'xenon1t'\n",
    "\n",
    "for i, conf in enumerate(tqdm(iter_confs, \n",
    "                              total = len(confs) - len(job_registry ), \n",
    "                              desc='configs')):\n",
    "    job = pema.ProcessRun(st, run_id=selected_runs, target=target, config=conf)\n",
    "    cmd, job_name = job.make_cmd()\n",
    "\n",
    "    job_registry.append(job)\n",
    "    if not job.all_stored(return_bool=True):\n",
    "#         print(job_name)\n",
    "#         job.purge_below('peak_basics')\n",
    "#         job.purge_below('match_acceptance_extended')\n",
    "        job.exec_dali(cmd, job_name, environ_init, mem=6_000, \n",
    "                      max_hours='01:00:00', partition=part)\n",
    "\n",
    "    if i % check_que_after:\n",
    "        q = !squeue -u `echo $USER`\n",
    "        while len(q)> queue_max:\n",
    "            q = !squeue -u `echo $USER`\n",
    "            print(f'waiting 10s, queue is full. {len(q)}')\n",
    "            time.sleep(10)"
   ]
  },
  {
   "cell_type": "code",
   "execution_count": null,
   "metadata": {
    "ExecuteTime": {
     "end_time": "2021-04-22T08:26:26.076456Z",
     "start_time": "2021-04-22T08:26:26.073173Z"
    }
   },
   "outputs": [],
   "source": [
    "pd.set_option('display.max_rows', 500)"
   ]
  },
  {
   "cell_type": "code",
   "execution_count": null,
   "metadata": {
    "ExecuteTime": {
     "end_time": "2021-04-22T08:27:18.029261Z",
     "start_time": "2021-04-22T08:26:26.079791Z"
    }
   },
   "outputs": [],
   "source": [
    "while True:\n",
    "    nrun = !squeue -u $USER  | wc -l\n",
    "    nrun = int(nrun[0])\n",
    "    print(nrun)\n",
    "    if nrun < 5:\n",
    "        break\n",
    "    time.sleep(1)"
   ]
  },
  {
   "cell_type": "code",
   "execution_count": null,
   "metadata": {
    "ExecuteTime": {
     "end_time": "2021-04-22T08:27:18.037683Z",
     "start_time": "2021-04-22T08:25:27.999Z"
    },
    "scrolled": true
   },
   "outputs": [],
   "source": [
    "df = pd.concat([j.all_stored(show_key=True) for j in job_registry])\n",
    "df"
   ]
  },
  {
   "cell_type": "markdown",
   "metadata": {},
   "source": [
    "### Load the simulated data using strax (\"default\")"
   ]
  },
  {
   "cell_type": "markdown",
   "metadata": {},
   "source": [
    "### Load the simulated data using different config parameters\n",
    "Let's copy the old context and run with different settings"
   ]
  },
  {
   "cell_type": "code",
   "execution_count": null,
   "metadata": {
    "ExecuteTime": {
     "end_time": "2021-04-22T08:27:21.905081Z",
     "start_time": "2021-04-22T08:27:21.899352Z"
    }
   },
   "outputs": [],
   "source": [
    "def compute_acceptance(data):\n",
    "    total = len(data)\n",
    "    found = np.sum(data['acceptance_fraction'])\n",
    "    return found/total, pema.binom_interval(found, total)"
   ]
  },
  {
   "cell_type": "code",
   "execution_count": null,
   "metadata": {
    "ExecuteTime": {
     "end_time": "2021-04-22T08:27:22.288639Z",
     "start_time": "2021-04-22T08:27:22.282865Z"
    }
   },
   "outputs": [],
   "source": [
    "def compute_bias(data):\n",
    "    total = len(data)\n",
    "    sub_sel = data['rec_bias'] > 0 \n",
    "    return np.mean(data['rec_bias'][sub_sel]), np.std(data['rec_bias'][sub_sel])"
   ]
  },
  {
   "cell_type": "code",
   "execution_count": null,
   "metadata": {
    "ExecuteTime": {
     "end_time": "2021-04-22T08:27:30.034078Z",
     "start_time": "2021-04-22T08:27:22.842235Z"
    },
    "scrolled": true
   },
   "outputs": [],
   "source": [
    "res = defaultdict(list)\n",
    "\n",
    "for i, job in enumerate(tqdm(job_registry)):\n",
    "    config = job.config\n",
    "    if config in res['config']:\n",
    "        continue\n",
    "    elif not job.all_stored(return_bool=True):\n",
    "        print(f'skip {job}')\n",
    "        continue\n",
    "    \n",
    "    data = job.st.get_array(selected_runs, 'match_acceptance_extended', progress_bar=False)\n",
    "    res['number'].append(i)\n",
    "    res['config'].append(config)\n",
    "    res['config_type'].append(list(config.keys()))\n",
    "    for si in range(1,3):\n",
    "        sel = data['type'] == si\n",
    "        acceptance, (low, high) = compute_acceptance(data[sel])\n",
    "        res[f's{si}_acc'].append(acceptance)\n",
    "        res[f's{si}_acc_err'].append([acceptance-low, high-acceptance])\n",
    "\n",
    "        bias_mean, bias_err = compute_bias(data[sel])\n",
    "        res[f's{si}_bias'].append(bias_mean)\n",
    "        res[f's{si}_bias_err'].append(bias_err)"
   ]
  },
  {
   "cell_type": "code",
   "execution_count": null,
   "metadata": {
    "ExecuteTime": {
     "end_time": "2021-04-22T08:27:30.076412Z",
     "start_time": "2021-04-22T08:27:30.037311Z"
    }
   },
   "outputs": [],
   "source": [
    "df = pd.DataFrame(res)\n",
    "df"
   ]
  },
  {
   "cell_type": "code",
   "execution_count": null,
   "metadata": {
    "ExecuteTime": {
     "end_time": "2021-04-22T08:27:38.198970Z",
     "start_time": "2021-04-22T08:27:30.080272Z"
    },
    "scrolled": false
   },
   "outputs": [],
   "source": [
    "for config_type in np.unique(df['config_type'].values):\n",
    "    if not config_type:\n",
    "        continue\n",
    "    print(config_type)\n",
    "    mask = np.array([c == config_type for c in  df['config_type']])\n",
    "    plot_kwargs = dict(markersize= 5,  ls='none', capsize=3, marker='o')\n",
    "    fig = plt.figure(figsize=(1*np.sum(mask),6))\n",
    "    plt.title(f'S1/S2 acceptance - {config_type}')\n",
    "    colors = ('#1f77b4', '#ff7f0e')\n",
    "    for axi, si in enumerate([1, 2]):\n",
    "        if axi ==1:\n",
    "            plt.sca(plt.gca().twinx())\n",
    "            plt.xticks()\n",
    "        plt.errorbar(df[mask]['number'], \n",
    "                     df[mask][f's{si}_acc'], \n",
    "                     yerr=np.array([e for e in df[mask][f's{si}_acc_err']]).T,\n",
    "                     label = f'S{si} acceptance',\n",
    "                     c = colors[axi],\n",
    "                     **plot_kwargs,\n",
    "                    )\n",
    "        plt.axhline(df[f's{si}_acc'][0], ls = '--', c = colors[axi], label=f'default S{si} acceptance')\n",
    "        plt.ylabel(f'S{si} acceptance')\n",
    "        plt.gca().yaxis.label.set_color(colors[axi])\n",
    "        plt.gca().tick_params(axis='y', colors=colors[axi])\n",
    "        if axi==0:\n",
    "            plt.xticks(df[mask]['number'], \n",
    "                       df[mask]['config'], \n",
    "                       rotation = 45, ha='right')\n",
    "    fig.legend(loc=5)\n",
    "    pema.save_canvas(f'{config_type}_update_lowe_scan', save_dir=os.path.join(fig_dir, 'update_scan'))"
   ]
  },
  {
   "cell_type": "code",
   "execution_count": null,
   "metadata": {
    "ExecuteTime": {
     "end_time": "2021-04-22T08:27:45.271713Z",
     "start_time": "2021-04-22T08:27:38.202644Z"
    },
    "scrolled": false
   },
   "outputs": [],
   "source": [
    "for config_type in np.unique(df['config_type'].values):\n",
    "    if not config_type:\n",
    "        continue\n",
    "    print(config_type)\n",
    "    mask = np.array([c == config_type for c in  df['config_type']])\n",
    "    plot_kwargs = dict(markersize= 5,  ls='none', capsize=3, marker='o')\n",
    "    fig = plt.figure(figsize=(1*np.sum(mask),6))\n",
    "    plt.title(f'S1/S2 acceptance - {config_type}')\n",
    "    colors = ('#1f77b4', '#ff7f0e')\n",
    "    for axi, si in enumerate([1, 2]):\n",
    "        if axi ==1:\n",
    "            plt.sca(plt.gca().twinx())\n",
    "            plt.xticks()\n",
    "        plt.errorbar(df[mask]['number'], \n",
    "                     df[mask][f's{si}_bias'], \n",
    "                     yerr=df[mask][f's{si}_bias_err'],\n",
    "                     label = f'S{si} bias',\n",
    "                     c = colors[axi],\n",
    "                     **plot_kwargs,\n",
    "                    )\n",
    "        plt.axhline(df[f's{si}_bias'][0], ls = '--', c = colors[axi], label=f'default S{si} acceptance')\n",
    "        plt.ylabel(f'S{si} bias')\n",
    "        plt.gca().yaxis.label.set_color(colors[axi])\n",
    "        plt.gca().tick_params(axis='y', colors=colors[axi])\n",
    "        if axi==0:\n",
    "            plt.xticks(df[mask]['number'], \n",
    "                       df[mask]['config'], \n",
    "                       rotation = 45, ha='right')\n",
    "    fig.legend(loc=5)\n",
    "    pema.save_canvas(f'{config_type}_update_lowe_bias_scan', save_dir=os.path.join(fig_dir, 'update_scan'))"
   ]
  },
  {
   "cell_type": "code",
   "execution_count": null,
   "metadata": {
    "ExecuteTime": {
     "end_time": "2021-04-22T08:27:45.451903Z",
     "start_time": "2021-04-22T08:27:45.275342Z"
    }
   },
   "outputs": [],
   "source": [
    "dat = st.get_array(selected_runs, 'match_acceptance_extended', progress_bar=False)"
   ]
  },
  {
   "cell_type": "code",
   "execution_count": null,
   "metadata": {},
   "outputs": [],
   "source": []
  },
  {
   "cell_type": "markdown",
   "metadata": {},
   "source": [
    "# Select config and work from there"
   ]
  },
  {
   "cell_type": "code",
   "execution_count": null,
   "metadata": {
    "ExecuteTime": {
     "end_time": "2021-04-22T08:28:35.614052Z",
     "start_time": "2021-04-22T08:28:35.486177Z"
    }
   },
   "outputs": [],
   "source": [
    "summary_config = {\n",
    "    's2_merge_max_duration': 30000,\n",
    "    's2_merge_max_gap': 5000,\n",
    "    'peaklet_gap_threshold': 500\n",
    "                 }\n",
    "st2 = st.new_context()\n",
    "st2.set_config(summary_config)"
   ]
  },
  {
   "cell_type": "code",
   "execution_count": null,
   "metadata": {
    "ExecuteTime": {
     "end_time": "2021-04-22T08:29:11.707235Z",
     "start_time": "2021-04-22T08:29:10.019999Z"
    },
    "scrolled": true
   },
   "outputs": [],
   "source": [
    "default_acceptence = st.get_array(selected_runs, 'match_acceptance_extended',progress_bar=False)\n",
    "custom_acceptence = st2.get_array(selected_runs, 'match_acceptance_extended',progress_bar=False)"
   ]
  },
  {
   "cell_type": "code",
   "execution_count": null,
   "metadata": {
    "ExecuteTime": {
     "end_time": "2021-04-22T08:29:19.258949Z",
     "start_time": "2021-04-22T08:29:19.234875Z"
    }
   },
   "outputs": [],
   "source": [
    "def si_acceptance(si, binedges, on_axis='n_photon', nbins=50):\n",
    "    mask = default_acceptence['type'] == si\n",
    "    pema.summary_plots.acceptance_plot(\n",
    "        default_acceptence[mask], \n",
    "        on_axis, \n",
    "        binedges, \n",
    "        nbins=nbins, \n",
    "        plot_label=default_label,\n",
    "    )\n",
    "    mask = custom_acceptence['type'] == si\n",
    "    pema.summary_plots.acceptance_plot(\n",
    "        custom_acceptence[mask], \n",
    "        on_axis, \n",
    "        binedges, \n",
    "        nbins=nbins, \n",
    "        plot_label=custom_label,\n",
    "    )\n",
    "    plt.ylabel('Arb. Acceptance')\n",
    "    plt.title(f\"S{si} acceptance\")\n",
    "    plt.legend()\n",
    "\n",
    "def acceptance_summary(si, on_axis, axis_label, nbins = 100, plot_range = (0, 200), save_name=''):\n",
    "    f, axes = plt.subplots(3, 1, figsize=(10,12), sharex=True)\n",
    "    max_photons = 35\n",
    "    plt.sca(axes[0])\n",
    "    sel = ((default_acceptence['type'] == si) \n",
    "           & (default_acceptence[on_axis] > plot_range[0])\n",
    "           & (default_acceptence[on_axis] < plot_range[1])\n",
    "          )\n",
    "    pema.summary_plots.plot_peak_matching_histogram(default_acceptence[sel], on_axis, bin_edges = nbins)\n",
    "    plt.text(0.05,0.95, \n",
    "             default_label,\n",
    "             transform=plt.gca().transAxes,\n",
    "             ha = 'left',\n",
    "             va = 'top',\n",
    "             bbox=dict(boxstyle=\"round\", fc=\"w\")\n",
    "            )\n",
    "    plt.legend(loc=(1.01,0))\n",
    "    plt.xlim(*plot_range)\n",
    "  \n",
    "    plt.sca(axes[1])\n",
    "    sel = ((custom_acceptence['type'] == si) \n",
    "           & (custom_acceptence[on_axis] > plot_range[0])\n",
    "           & (custom_acceptence[on_axis] < plot_range[1])\n",
    "          )\n",
    "    print(f'cust {np.sum(sel)}')\n",
    "    pema.summary_plots.plot_peak_matching_histogram(custom_acceptence[sel], on_axis, bin_edges = nbins)\n",
    "    plt.text(0.05,0.95, \n",
    "             custom_label,\n",
    "             transform=plt.gca().transAxes,\n",
    "             ha = 'left',\n",
    "             va = 'top',\n",
    "             bbox=dict(boxstyle=\"round\", fc=\"w\")\n",
    "            )\n",
    "    plt.legend(loc=(1.01,0))\n",
    "    plt.xlim(*plot_range)\n",
    "    \n",
    "    plt.sca(axes[2])\n",
    "    mask = default_acceptence['type'] == si\n",
    "    pema.summary_plots.acceptance_plot(default_acceptence[mask], on_axis, plot_range, nbins=nbins, \n",
    "                                       plot_label=default_label)\n",
    "    mask = custom_acceptence['type'] == si\n",
    "\n",
    "    pema.summary_plots.acceptance_plot(custom_acceptence[mask], on_axis, plot_range, nbins=nbins, \n",
    "                                       plot_label=custom_label)\n",
    "    plt.legend(loc=(1.01,0))\n",
    "    plt.ylabel('Arb. acceptance faction')\n",
    "    plt.xlim(*plot_range)\n",
    "    plt.xlabel(axis_label)\n",
    "    plt.ylim(0,1)\n",
    "\n",
    "    plt.subplots_adjust(hspace=0)\n",
    "    plt.suptitle(f'S{si} Acceptance', y=0.9)\n",
    "    pema.save_canvas(f'{si}_acceptance_detailed_{save_name}', save_dir=fig_dir)"
   ]
  },
  {
   "cell_type": "code",
   "execution_count": null,
   "metadata": {
    "ExecuteTime": {
     "end_time": "2021-04-22T08:29:19.959754Z",
     "start_time": "2021-04-22T08:29:19.956203Z"
    }
   },
   "outputs": [],
   "source": [
    "# bias_recons(1)\n",
    "# bias_recons(2)"
   ]
  },
  {
   "cell_type": "code",
   "execution_count": null,
   "metadata": {
    "ExecuteTime": {
     "end_time": "2021-04-22T08:29:20.300451Z",
     "start_time": "2021-04-22T08:29:20.294412Z"
    }
   },
   "outputs": [],
   "source": [
    "s1_max = default_acceptence['n_photon'][default_acceptence['type']==1].max()\n",
    "s2_max = default_acceptence['n_photon'][default_acceptence['type']==2].max()"
   ]
  },
  {
   "cell_type": "code",
   "execution_count": null,
   "metadata": {
    "ExecuteTime": {
     "end_time": "2021-04-22T08:29:23.244207Z",
     "start_time": "2021-04-22T08:29:21.440063Z"
    }
   },
   "outputs": [],
   "source": [
    "pema.summary_plots.rec_diff(\n",
    "    default_acceptence,\n",
    "    custom_acceptence,\n",
    "    s1_kwargs=dict(bins=[100, 100], range=[[0,s1_max], [0.6, 1.1]]),\n",
    "    s2_kwargs=dict(bins=[100, 100], range=[[0,s2_max], [0.6, 1.1]])\n",
    "        )"
   ]
  },
  {
   "cell_type": "code",
   "execution_count": null,
   "metadata": {
    "ExecuteTime": {
     "end_time": "2021-04-22T08:29:32.346152Z",
     "start_time": "2021-04-22T08:29:23.245328Z"
    }
   },
   "outputs": [],
   "source": [
    "acceptance_summary(si = 1, \n",
    "                   on_axis = 'n_photon',\n",
    "                   axis_label = 'N photons simulated', \n",
    "                   nbins = 100, \n",
    "                   plot_range = (0, 50),\n",
    "                   save_name = 'tot_compare',)\n",
    "\n",
    "acceptance_summary(si = 2, \n",
    "                   on_axis = 'n_photon',\n",
    "                   axis_label = 'N photons simulated', \n",
    "                   nbins = 100, \n",
    "                   plot_range = (0, 250),\n",
    "                  save_name = 'tot_compare')\n",
    "\n",
    "acceptance_summary(si = 2, \n",
    "                   on_axis = 'z',\n",
    "                   axis_label = 'z (simulated) [cm]', \n",
    "                   nbins = 75, \n",
    "                   plot_range = (-160, 10),\n",
    "                   save_name = 'tot_compare')"
   ]
  },
  {
   "cell_type": "code",
   "execution_count": null,
   "metadata": {
    "ExecuteTime": {
     "end_time": "2021-04-22T08:29:34.954313Z",
     "start_time": "2021-04-22T08:29:32.349920Z"
    },
    "scrolled": true
   },
   "outputs": [],
   "source": [
    "pema.compare_outcomes(st, default_acceptence,                 \n",
    "                      st2, custom_acceptence,\n",
    "                      only_different=False,\n",
    "                      plot_fuzz=3000,\n",
    "                      fuzz=0,\n",
    "#                       fig_dir=os.path.join(fig_dir, 'total_config'),\n",
    "                      max_peaks=10)"
   ]
  },
  {
   "cell_type": "code",
   "execution_count": null,
   "metadata": {},
   "outputs": [],
   "source": []
  },
  {
   "cell_type": "code",
   "execution_count": null,
   "metadata": {},
   "outputs": [],
   "source": []
  },
  {
   "cell_type": "code",
   "execution_count": null,
   "metadata": {},
   "outputs": [],
   "source": []
  },
  {
   "cell_type": "code",
   "execution_count": null,
   "metadata": {},
   "outputs": [],
   "source": []
  },
  {
   "cell_type": "code",
   "execution_count": null,
   "metadata": {},
   "outputs": [],
   "source": []
  },
  {
   "cell_type": "code",
   "execution_count": null,
   "metadata": {},
   "outputs": [],
   "source": []
  },
  {
   "cell_type": "code",
   "execution_count": null,
   "metadata": {},
   "outputs": [],
   "source": []
  },
  {
   "cell_type": "code",
   "execution_count": null,
   "metadata": {},
   "outputs": [],
   "source": []
  },
  {
   "cell_type": "code",
   "execution_count": null,
   "metadata": {},
   "outputs": [],
   "source": []
  },
  {
   "cell_type": "code",
   "execution_count": null,
   "metadata": {},
   "outputs": [],
   "source": []
  }
 ],
 "metadata": {
  "kernelspec": {
   "display_name": "Python 3",
   "language": "python",
   "name": "python3"
  },
  "language_info": {
   "codemirror_mode": {
    "name": "ipython",
    "version": 3
   },
   "file_extension": ".py",
   "mimetype": "text/x-python",
   "name": "python",
   "nbconvert_exporter": "python",
   "pygments_lexer": "ipython3",
   "version": "3.8.5"
  },
  "latex_envs": {
   "LaTeX_envs_menu_present": true,
   "autoclose": false,
   "autocomplete": true,
   "bibliofile": "biblio.bib",
   "cite_by": "apalike",
   "current_citInitial": 1,
   "eqLabelWithNumbers": true,
   "eqNumInitial": 1,
   "hotkeys": {
    "equation": "Ctrl-E",
    "itemize": "Ctrl-I"
   },
   "labels_anchors": false,
   "latex_user_defs": false,
   "report_style_numbering": false,
   "user_envs_cfg": false
  },
  "varInspector": {
   "cols": {
    "lenName": 16,
    "lenType": 16,
    "lenVar": 40
   },
   "kernels_config": {
    "python": {
     "delete_cmd_postfix": "",
     "delete_cmd_prefix": "del ",
     "library": "var_list.py",
     "varRefreshCmd": "print(var_dic_list())"
    },
    "r": {
     "delete_cmd_postfix": ") ",
     "delete_cmd_prefix": "rm(",
     "library": "var_list.r",
     "varRefreshCmd": "cat(var_dic_list()) "
    }
   },
   "types_to_exclude": [
    "module",
    "function",
    "builtin_function_or_method",
    "instance",
    "_Feature"
   ],
   "window_display": false
  },
  "widgets": {
   "state": {
    "a26e7f9ab967429687376a4127408b3b": {
     "views": [
      {
       "cell_index": 9
      }
     ]
    }
   },
   "version": "1.2.0"
  }
 },
 "nbformat": 4,
 "nbformat_minor": 4
}
