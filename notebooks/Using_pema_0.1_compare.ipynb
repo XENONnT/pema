{
 "cells": [
  {
   "cell_type": "markdown",
   "metadata": {},
   "source": [
    "# Run pema\n",
    "\n",
    "Authors:\n",
    " - Angevaare, Joran <j.angevaare@nikhef.nl> (based on the Peak_Classification_Tester) \n"
   ]
  },
  {
   "cell_type": "markdown",
   "metadata": {},
   "source": [
    "## This notebook ##\n",
    "\n",
    "**Goal**\n",
    " - Simulate waveforms and compare how the acceptance of S1s and S2s changes as function of the set clustering and classification parameters.\n",
    "\n",
    "**Known issues**\n",
    " -\n"
   ]
  },
  {
   "cell_type": "markdown",
   "metadata": {},
   "source": [
    "**Start up ``strax`` + load tools**"
   ]
  },
  {
   "cell_type": "code",
   "execution_count": null,
   "metadata": {
    "ExecuteTime": {
     "end_time": "2021-03-28T10:10:00.146460Z",
     "start_time": "2021-03-28T10:09:55.545275Z"
    }
   },
   "outputs": [],
   "source": [
    "import pema\n",
    "import os"
   ]
  },
  {
   "cell_type": "code",
   "execution_count": null,
   "metadata": {
    "ExecuteTime": {
     "end_time": "2021-03-28T10:10:00.197167Z",
     "start_time": "2021-03-28T10:10:00.149776Z"
    }
   },
   "outputs": [],
   "source": [
    "if not os.path.exists('init.py'):\n",
    "    init = os.path.join(pema.__path__[0], '..', 'bin', \"pema_init.py\")\n",
    "    !ln -s $init init.py\n",
    "%run init.py"
   ]
  },
  {
   "cell_type": "code",
   "execution_count": null,
   "metadata": {
    "ExecuteTime": {
     "end_time": "2021-03-28T10:10:00.214083Z",
     "start_time": "2021-03-28T10:10:00.203802Z"
    }
   },
   "outputs": [],
   "source": [
    "base_dir = '/mnt/d/pema/'\n",
    "data_name = f'pema_test_{pema.__version__}'\n",
    "fig_dir = os.path.join(base_dir, f'figures_summary_{data_name}')\n",
    "data_dir = os.path.join(base_dir, 'processed_data')\n",
    "raw_data_dir = os.path.join(base_dir, 'raw_data')\n",
    "instructions_csv = f\"./inst_{data_name}.csv\"\n",
    "\n",
    "# Output naming\n",
    "default_label = 'Normal clustering'\n",
    "custom_label = 'Changed clustering'"
   ]
  },
  {
   "cell_type": "markdown",
   "metadata": {},
   "source": [
    "**Initialize the wavefrom simulator with instructions**"
   ]
  },
  {
   "cell_type": "code",
   "execution_count": null,
   "metadata": {
    "ExecuteTime": {
     "end_time": "2021-03-28T10:10:00.250615Z",
     "start_time": "2021-03-28T10:10:00.219532Z"
    }
   },
   "outputs": [],
   "source": [
    "# Take a few arbitrary runs that allow to run jobs in parallel and get the \n",
    "# gains from CMT\n",
    "run_list = list(f'{r:06}' for r in range(11665,11665+6))\n",
    "run_list"
   ]
  },
  {
   "cell_type": "code",
   "execution_count": null,
   "metadata": {
    "ExecuteTime": {
     "end_time": "2021-03-28T10:10:00.278230Z",
     "start_time": "2021-03-28T10:10:00.254542Z"
    }
   },
   "outputs": [],
   "source": [
    "# Just some id which allows CMT to load\n",
    "run_id = run_list[0]"
   ]
  },
  {
   "cell_type": "code",
   "execution_count": null,
   "metadata": {
    "ExecuteTime": {
     "end_time": "2021-03-28T10:10:00.314865Z",
     "start_time": "2021-03-28T10:10:00.284274Z"
    }
   },
   "outputs": [],
   "source": [
    "# setting up instructions like this may take a while. You can set e.g. \n",
    "instructions = dict(\n",
    "    event_rate=100, # Don't make too large -> overlapping truth info\n",
    "    chunk_size=5, # keep large -> less overhead but takes more RAM\n",
    "    nchunk=100, # set to 100\n",
    "    photons_low=1, #PE\n",
    "    photons_high=100, #PE\n",
    "    electrons_low=1, #\n",
    "    electrons_high=100,\n",
    "    tpc_radius=straxen.tpc_r,\n",
    "    tpc_length=148.1, # TPC length approx\n",
    "    drift_field = 18.5, # V/cm VERIFY!\n",
    "    timing = 'uniform', #Double S1 peaks uniform over time   \n",
    ")\n",
    "fax_override = {\n",
    "    's1_pattern_map' : ntauxfiles.get_abspath('XENONnT_s1_xyz_patterns_LCE_corrected_qes_MCva43fa9b_wires.pkl'),\n",
    "    's2_pattern_map' : ntauxfiles.get_abspath('XENONnT_s2_xy_patterns_LCE_corrected_qes_MCva43fa9b_wires.pkl')}"
   ]
  },
  {
   "cell_type": "markdown",
   "metadata": {},
   "source": [
    "\n",
    "## Write instructions to CSV"
   ]
  },
  {
   "cell_type": "code",
   "execution_count": null,
   "metadata": {
    "ExecuteTime": {
     "end_time": "2021-03-28T10:10:01.269282Z",
     "start_time": "2021-03-28T10:10:00.318481Z"
    }
   },
   "outputs": [],
   "source": [
    "pema.inst_to_csv(\n",
    "    instructions, \n",
    "    instructions_csv, \n",
    "    get_inst_from = pema.rand_instructions)"
   ]
  },
  {
   "cell_type": "code",
   "execution_count": null,
   "metadata": {
    "ExecuteTime": {
     "end_time": "2021-03-28T10:10:01.279678Z",
     "start_time": "2021-03-28T10:10:01.274429Z"
    }
   },
   "outputs": [],
   "source": [
    "# TODO can we add noise?\n",
    "config_update = dict(\n",
    "    detector='XENONnT',\n",
    "    fax_file=os.path.abspath(instructions_csv),\n",
    "    fax_config='fax_config_nt_low_field.json',\n",
    "    fax_config_override=fax_override,\n",
    ")"
   ]
  },
  {
   "cell_type": "code",
   "execution_count": null,
   "metadata": {
    "ExecuteTime": {
     "end_time": "2021-03-28T10:10:01.319151Z",
     "start_time": "2021-03-28T10:10:01.285472Z"
    }
   },
   "outputs": [],
   "source": [
    "st = pema.pema_context(base_dir=base_dir,\n",
    "                       config_update=config_update,\n",
    "                       raw_dir=raw_data_dir,\n",
    "                       data_dir=data_dir)"
   ]
  },
  {
   "cell_type": "markdown",
   "metadata": {},
   "source": [
    "### Optional set the config to use different defaults\n",
    "useful when iteratively optimizing parameters"
   ]
  },
  {
   "cell_type": "code",
   "execution_count": null,
   "metadata": {
    "ExecuteTime": {
     "end_time": "2021-03-28T10:10:01.325953Z",
     "start_time": "2021-03-28T10:10:01.321937Z"
    }
   },
   "outputs": [],
   "source": [
    "# st.set_config(\n",
    "# {'s2_merge_max_duration': 30000,\n",
    "#  's2_merge_max_gap': 5000})"
   ]
  },
  {
   "cell_type": "markdown",
   "metadata": {
    "ExecuteTime": {
     "end_time": "2021-03-25T12:56:00.727413Z",
     "start_time": "2021-03-25T12:56:00.723250Z"
    }
   },
   "source": [
    "### Make raw-records and peaklets of the default. Do each run in a separate job"
   ]
  },
  {
   "cell_type": "code",
   "execution_count": null,
   "metadata": {
    "ExecuteTime": {
     "end_time": "2021-03-28T10:10:01.356342Z",
     "start_time": "2021-03-28T10:10:01.330890Z"
    }
   },
   "outputs": [],
   "source": [
    "# How do you want to initalialize an encironment, you need to change this\n",
    "environ_init = '''eval \"$(/home/angevaare/software/Miniconda3/bin/conda shell.bash hook)\"\n",
    "conda activate strax\n",
    "export PATH=/home/angevaare/software/Miniconda3/envs/strax/bin:$PATH'''\n",
    "environ_init"
   ]
  },
  {
   "cell_type": "code",
   "execution_count": null,
   "metadata": {
    "ExecuteTime": {
     "end_time": "2021-03-28T10:10:02.004279Z",
     "start_time": "2021-03-28T10:10:01.360483Z"
    }
   },
   "outputs": [],
   "source": [
    "job_registry=[]\n",
    "for r in run_list:\n",
    "    print(r)\n",
    "    job = pema.ProcessRun(st, run_id=r, target=('records', 'peaklets'), config={})\n",
    "    job_registry.append(job)\n",
    "\n",
    "    cmd, job_name = job.make_cmd()\n",
    "    job.exec_local(cmd, job_name)"
   ]
  },
  {
   "cell_type": "code",
   "execution_count": null,
   "metadata": {
    "ExecuteTime": {
     "end_time": "2021-03-28T10:10:18.220596Z",
     "start_time": "2021-03-28T10:10:02.012207Z"
    }
   },
   "outputs": [],
   "source": [
    "# When working locally\n",
    "job_registry[-1].log_file.communicate();"
   ]
  },
  {
   "cell_type": "code",
   "execution_count": null,
   "metadata": {
    "ExecuteTime": {
     "end_time": "2021-03-28T10:10:18.280913Z",
     "start_time": "2021-03-28T10:10:18.222323Z"
    }
   },
   "outputs": [],
   "source": [
    "# Check if all the files are stored.\n",
    "pd.concat([j.all_stored(show_key=True) for j in job_registry])"
   ]
  },
  {
   "cell_type": "markdown",
   "metadata": {},
   "source": [
    "# Submit the jobs\n",
    "Let's start all the jobs for the requested configs\n",
    "\n",
    "\n",
    "We are going to compare with another config and run jobs to create the associated data."
   ]
  },
  {
   "cell_type": "code",
   "execution_count": null,
   "metadata": {
    "ExecuteTime": {
     "end_time": "2021-03-28T10:10:18.285921Z",
     "start_time": "2021-03-28T10:10:18.282765Z"
    }
   },
   "outputs": [],
   "source": [
    "summary_config = {\n",
    "    's2_merge_max_duration': 30000,\n",
    "    's2_merge_max_gap': 5000,\n",
    "    'peaklet_gap_threshold': 525\n",
    "                 }"
   ]
  },
  {
   "cell_type": "code",
   "execution_count": null,
   "metadata": {
    "ExecuteTime": {
     "end_time": "2021-03-28T10:10:18.309643Z",
     "start_time": "2021-03-28T10:10:18.288978Z"
    },
    "code_folding": []
   },
   "outputs": [],
   "source": [
    "# Check if all the runs we need are available at the record level\n",
    "selected_runs = [r for r in run_list if st.is_stored(r, 'records')]\n",
    "print(f'Doing runs:\\n{selected_runs}\\n{len(selected_runs)/len(run_list)*100:.1f}%')\n",
    "all_runs = len(selected_runs) == len(run_list)"
   ]
  },
  {
   "cell_type": "code",
   "execution_count": null,
   "metadata": {
    "ExecuteTime": {
     "end_time": "2021-03-28T10:10:18.315614Z",
     "start_time": "2021-03-28T10:10:18.312026Z"
    }
   },
   "outputs": [],
   "source": [
    "# The configs we need to take into account.\n",
    "confs = [st.config, summary_config]"
   ]
  },
  {
   "cell_type": "code",
   "execution_count": null,
   "metadata": {
    "ExecuteTime": {
     "end_time": "2021-03-28T10:11:20.371594Z",
     "start_time": "2021-03-28T10:10:18.317931Z"
    },
    "scrolled": false
   },
   "outputs": [],
   "source": [
    "job_registry = []\n",
    "target = ('raw_records', 'records', 'truth_matched', 'match_acceptance_extended')\n",
    "RAM = 15000\n",
    "queue_max = 200\n",
    "check_que_after = 50\n",
    "part = 'xenon1t'\n",
    "\n",
    "for i, conf in enumerate(tqdm(confs, desc='configs')):\n",
    "    job = pema.ProcessRun(st, run_id=selected_runs, target=target, config=conf)\n",
    "    job_registry.append(job)\n",
    "\n",
    "    cmd, job_name = job.make_cmd()\n",
    "#         job.exec_dali(cmd, \n",
    "#                       job_name, \n",
    "#                       bash_activate = environ_init\n",
    "#                      ram = RAM,\n",
    "#                      partition = part\n",
    "#                      max_hours= '04:00:00')\n",
    "    job.exec_local(cmd, job_name)\n",
    "    job.log_file.communicate()\n",
    "#         if i % check_que_after:\n",
    "#             q = !squeue -u `echo $USER` | grep $part\n",
    "#             while len(q)> queue_max:\n",
    "#                 q = !squeue -u `echo $USER` | grep $part\n",
    "#                 print(f'waiting 10s, queue is full. {len(q)}')\n",
    "#                 time.sleep(10)"
   ]
  },
  {
   "cell_type": "code",
   "execution_count": null,
   "metadata": {
    "ExecuteTime": {
     "end_time": "2021-03-28T10:11:20.393622Z",
     "start_time": "2021-03-28T10:11:20.377875Z"
    }
   },
   "outputs": [],
   "source": [
    "cmd"
   ]
  },
  {
   "cell_type": "markdown",
   "metadata": {},
   "source": [
    "#### Check the progress of the data"
   ]
  },
  {
   "cell_type": "code",
   "execution_count": null,
   "metadata": {
    "ExecuteTime": {
     "end_time": "2021-03-28T10:11:21.498171Z",
     "start_time": "2021-03-28T10:11:20.401877Z"
    }
   },
   "outputs": [],
   "source": [
    "pd.concat([j.all_stored(show_key=True) for j in job_registry])"
   ]
  },
  {
   "cell_type": "markdown",
   "metadata": {},
   "source": [
    "### Load the simulated data using strax \"default\" and \"custom\" data"
   ]
  },
  {
   "cell_type": "code",
   "execution_count": null,
   "metadata": {
    "ExecuteTime": {
     "end_time": "2021-03-28T10:11:21.516445Z",
     "start_time": "2021-03-28T10:11:21.506387Z"
    }
   },
   "outputs": [],
   "source": [
    "summary_config"
   ]
  },
  {
   "cell_type": "code",
   "execution_count": null,
   "metadata": {
    "ExecuteTime": {
     "end_time": "2021-03-28T10:11:21.539218Z",
     "start_time": "2021-03-28T10:11:21.523809Z"
    }
   },
   "outputs": [],
   "source": [
    "# Update the config\n",
    "st2 = st.new_context()\n",
    "st2.set_config(summary_config)"
   ]
  },
  {
   "cell_type": "code",
   "execution_count": null,
   "metadata": {
    "ExecuteTime": {
     "end_time": "2021-03-28T10:11:24.230505Z",
     "start_time": "2021-03-28T10:11:21.556368Z"
    },
    "scrolled": true
   },
   "outputs": [],
   "source": [
    "# Now load the data.\n",
    "truth = st.get_array(selected_runs, 'truth', progress_bar = False)\n",
    "data_default = st.get_array(selected_runs, 'peak_basics', progress_bar = False)\n",
    "data_custom = st2.get_array(selected_runs, 'peak_basics', progress_bar = False)"
   ]
  },
  {
   "cell_type": "code",
   "execution_count": null,
   "metadata": {
    "ExecuteTime": {
     "end_time": "2021-03-28T10:11:24.245505Z",
     "start_time": "2021-03-28T10:11:24.237139Z"
    }
   },
   "outputs": [],
   "source": [
    "# There should be some difference\n",
    "len(data_custom), len(data_default)"
   ]
  },
  {
   "cell_type": "markdown",
   "metadata": {},
   "source": [
    "## Basic checks, what did we simulate?\n",
    "Let's see for a second what kind of data we have simulated."
   ]
  },
  {
   "cell_type": "code",
   "execution_count": null,
   "metadata": {
    "ExecuteTime": {
     "end_time": "2021-03-28T10:11:32.892014Z",
     "start_time": "2021-03-28T10:11:24.250098Z"
    }
   },
   "outputs": [],
   "source": [
    "dpe_fraction = 0.219 # see fax_file\n",
    "area_t = truth['n_photon']\n",
    "area_d = data_default['area']\n",
    "area_c = data_custom['area']\n",
    "nbins = 50\n",
    "# range_ = [0,1e4]\n",
    "for typ in tqdm([1,2,4]):\n",
    "    plt.figure(figsize=(7,4))\n",
    "    mask = truth['type'] == typ\n",
    "    plt.hist((truth['n_photon']*(1+ dpe_fraction))[mask], bins = nbins, \n",
    "             label = wfsim.RawData.symtype(typ) + ' in truth', alpha = 0.7)\n",
    "    mask = data_default['type'] == typ\n",
    "    plt.hist(area_d[mask], bins = nbins, \n",
    "             label = wfsim.RawData.symtype(typ) + ' in data', alpha = 0.7)\n",
    "    mask = data_custom['type'] == typ\n",
    "    plt.hist(area_c[mask], bins = nbins, \n",
    "         label = wfsim.RawData.symtype(typ) + ' in data-custom', alpha = 0.7)\n",
    "    plt.xlabel(\"area [PE]\")\n",
    "    plt.legend()\n",
    "    \n",
    "    plt.yscale('log')\n",
    "    plt.title(f'S{typ} area distribution')\n",
    "#     pema.save_canvas(f'truth_vs_data_sim_s{typ}', save_dir=fig_dir)\n",
    "    plt.show()"
   ]
  },
  {
   "cell_type": "code",
   "execution_count": null,
   "metadata": {
    "ExecuteTime": {
     "end_time": "2021-03-28T10:11:32.908281Z",
     "start_time": "2021-03-28T10:11:32.896172Z"
    }
   },
   "outputs": [],
   "source": [
    "def dist_xyz(data, si=2, bins=50, **kwargs):\n",
    "    f, axes = plt.subplots(1, 2, figsize=(13,6))\n",
    "    plt.sca(axes[0])\n",
    "    \n",
    "    sel = data['type'] == si\n",
    "    plt.hist2d(data[sel]['x']**2+data[sel]['y']**2, data[sel]['z'], bins=bins, **kwargs)\n",
    "    plt.xlabel('$R^{2}$ [cm]')\n",
    "    plt.ylabel('z [cm]')\n",
    "    plt.sca(axes[1])\n",
    "    plt.gca().set_aspect('equal')\n",
    "    plt.hist2d(data[sel]['x'], data[sel]['y'], bins=bins, **kwargs)\n",
    "    plt.xlabel('x')\n",
    "    plt.ylabel('y')\n",
    "    plt.gca().set_facecolor('lightgrey')\n",
    "    plt.gca().add_artist(plt.Circle(\n",
    "        (0, 0),\n",
    "        straxen.tpc_r,\n",
    "        edgecolor='c',\n",
    "        facecolor='none',\n",
    "        zorder=5,\n",
    "        linewidth=1))"
   ]
  },
  {
   "cell_type": "code",
   "execution_count": null,
   "metadata": {
    "ExecuteTime": {
     "end_time": "2021-03-28T10:11:33.855172Z",
     "start_time": "2021-03-28T10:11:32.912977Z"
    }
   },
   "outputs": [],
   "source": [
    "dist_xyz(truth, si=2, norm=LogNorm())\n",
    "plt.suptitle('S2 distribution')"
   ]
  },
  {
   "cell_type": "markdown",
   "metadata": {},
   "source": [
    "## New matching! \n",
    "Get the matched acceptance peaks from the plugin"
   ]
  },
  {
   "cell_type": "code",
   "execution_count": null,
   "metadata": {
    "ExecuteTime": {
     "end_time": "2021-03-28T10:11:33.868239Z",
     "start_time": "2021-03-28T10:11:33.859283Z"
    }
   },
   "outputs": [],
   "source": [
    "# for j in job_registry:\n",
    "#     j.purge_below()"
   ]
  },
  {
   "cell_type": "code",
   "execution_count": null,
   "metadata": {
    "ExecuteTime": {
     "end_time": "2021-03-28T10:11:38.041978Z",
     "start_time": "2021-03-28T10:11:33.874222Z"
    },
    "scrolled": false
   },
   "outputs": [],
   "source": [
    "default_acceptence = st.get_array(selected_runs, 'match_acceptance_extended')\n",
    "custom_acceptence = st2.get_array(selected_runs, 'match_acceptance_extended')"
   ]
  },
  {
   "cell_type": "markdown",
   "metadata": {},
   "source": [
    "### Plotting the results"
   ]
  },
  {
   "cell_type": "code",
   "execution_count": null,
   "metadata": {
    "ExecuteTime": {
     "end_time": "2021-03-28T10:11:38.076080Z",
     "start_time": "2021-03-28T10:11:38.047801Z"
    }
   },
   "outputs": [],
   "source": [
    "def si_acceptance(si, binedges, on_axis='n_photon', nbins=50):\n",
    "    mask = default_acceptence['type'] == si\n",
    "    pema.summary_plots.acceptance_plot(\n",
    "        default_acceptence[mask], \n",
    "        on_axis, \n",
    "        binedges, \n",
    "        nbins=nbins, \n",
    "        plot_label=default_label,\n",
    "    )\n",
    "    mask = custom_acceptence['type'] == si\n",
    "    pema.summary_plots.acceptance_plot(\n",
    "        custom_acceptence[mask], \n",
    "        on_axis, \n",
    "        binedges, \n",
    "        nbins=nbins, \n",
    "        plot_label=custom_label,\n",
    "    )\n",
    "    plt.ylabel('Arb. Acceptance')\n",
    "    plt.title(f\"S{si} acceptance\")\n",
    "    plt.legend()"
   ]
  },
  {
   "cell_type": "code",
   "execution_count": null,
   "metadata": {
    "ExecuteTime": {
     "end_time": "2021-03-28T10:11:43.216183Z",
     "start_time": "2021-03-28T10:11:38.092180Z"
    }
   },
   "outputs": [],
   "source": [
    "si_acceptance(1, [0,100])\n",
    "plt.show()\n",
    "\n",
    "si_acceptance(2, [0,200])\n",
    "pema.save_canvas('improved_s2_acceptance', save_dir=fig_dir)\n"
   ]
  },
  {
   "cell_type": "code",
   "execution_count": null,
   "metadata": {
    "ExecuteTime": {
     "end_time": "2021-03-28T10:11:43.346023Z",
     "start_time": "2021-03-28T10:11:43.255166Z"
    }
   },
   "outputs": [],
   "source": [
    "def acceptance_summary(si, on_axis, axis_label, nbins = 100, plot_range = (0, 200), save_name=''):\n",
    "    f, axes = plt.subplots(3, 1, figsize=(10,12), sharex=True)\n",
    "    max_photons = 35\n",
    "    plt.sca(axes[0])\n",
    "    sel = ((default_acceptence['type'] == si) \n",
    "           & (default_acceptence[on_axis] > plot_range[0])\n",
    "           & (default_acceptence[on_axis] < plot_range[1])\n",
    "          )\n",
    "    pema.summary_plots.plot_peak_matching_histogram(default_acceptence[sel], on_axis, bin_edges = nbins)\n",
    "    plt.text(0.05,0.95, \n",
    "             default_label,\n",
    "             transform=plt.gca().transAxes,\n",
    "             ha = 'left',\n",
    "             va = 'top',\n",
    "             bbox=dict(boxstyle=\"round\", fc=\"w\")\n",
    "            )\n",
    "    plt.legend(loc=(1.01,0))\n",
    "    plt.xlim(*plot_range)\n",
    "  \n",
    "    plt.sca(axes[1])\n",
    "    sel = ((custom_acceptence['type'] == si) \n",
    "           & (custom_acceptence[on_axis] > plot_range[0])\n",
    "           & (custom_acceptence[on_axis] < plot_range[1])\n",
    "          )\n",
    "    print(f'cust {np.sum(sel)}')\n",
    "    pema.summary_plots.plot_peak_matching_histogram(custom_acceptence[sel], on_axis, bin_edges = nbins)\n",
    "    plt.text(0.05,0.95, \n",
    "             custom_label,\n",
    "             transform=plt.gca().transAxes,\n",
    "             ha = 'left',\n",
    "             va = 'top',\n",
    "             bbox=dict(boxstyle=\"round\", fc=\"w\")\n",
    "            )\n",
    "    plt.legend(loc=(1.01,0))\n",
    "    plt.xlim(*plot_range)\n",
    "    \n",
    "    plt.sca(axes[2])\n",
    "    mask = default_acceptence['type'] == si\n",
    "    pema.summary_plots.acceptance_plot(default_acceptence[mask], on_axis, plot_range, nbins=nbins, \n",
    "                                       plot_label=default_label)\n",
    "    mask = custom_acceptence['type'] == si\n",
    "\n",
    "    pema.summary_plots.acceptance_plot(custom_acceptence[mask], on_axis, plot_range, nbins=nbins, \n",
    "                                       plot_label=custom_label)\n",
    "    plt.legend(loc=(1.01,0))\n",
    "    plt.ylabel('Arb. acceptance faction')\n",
    "    plt.xlim(*plot_range)\n",
    "    plt.xlabel(axis_label)\n",
    "    plt.ylim(0,1)\n",
    "\n",
    "    plt.subplots_adjust(hspace=0)\n",
    "    plt.suptitle(f'S{si} Acceptance', y=0.9)\n",
    "    pema.save_canvas(f'{si}_acceptance_detailed_{save_name}', save_dir=fig_dir)\n"
   ]
  },
  {
   "cell_type": "code",
   "execution_count": null,
   "metadata": {
    "ExecuteTime": {
     "end_time": "2021-03-28T10:11:54.444176Z",
     "start_time": "2021-03-28T10:11:43.371817Z"
    }
   },
   "outputs": [],
   "source": [
    "acceptance_summary(si = 1, \n",
    "                   on_axis = 'n_photon',\n",
    "                   axis_label = 'N photons simulated', \n",
    "                   nbins = 100, \n",
    "                   plot_range = (0, 30),\n",
    "                   save_name = 'tot_compare',)"
   ]
  },
  {
   "cell_type": "code",
   "execution_count": null,
   "metadata": {
    "ExecuteTime": {
     "end_time": "2021-03-28T10:12:11.284151Z",
     "start_time": "2021-03-28T10:11:54.448322Z"
    }
   },
   "outputs": [],
   "source": [
    "acceptance_summary(si = 2, \n",
    "                   on_axis = 'n_photon',\n",
    "                   axis_label = 'N photons simulated', \n",
    "                   nbins = 100, \n",
    "                   plot_range = (0, 250),\n",
    "                  save_name = 'tot_compare')"
   ]
  },
  {
   "cell_type": "code",
   "execution_count": null,
   "metadata": {
    "ExecuteTime": {
     "end_time": "2021-03-28T10:12:26.770995Z",
     "start_time": "2021-03-28T10:12:11.288789Z"
    }
   },
   "outputs": [],
   "source": [
    "acceptance_summary(si = 2, \n",
    "                   on_axis = 'z',\n",
    "                   axis_label = 'z (simulated) [cm]', \n",
    "                   nbins = 75, \n",
    "                   plot_range = (-160, 10),\n",
    "                   save_name = 'tot_compare')"
   ]
  },
  {
   "cell_type": "markdown",
   "metadata": {},
   "source": [
    "# look at the difference in the waveforms"
   ]
  },
  {
   "cell_type": "code",
   "execution_count": null,
   "metadata": {
    "ExecuteTime": {
     "end_time": "2021-03-28T10:14:53.187519Z",
     "start_time": "2021-03-28T10:12:26.785725Z"
    },
    "scrolled": true
   },
   "outputs": [],
   "source": [
    "mask = custom_acceptence['rec_bias'] > 1\n",
    "\n",
    "pema.compare_outcomes(st, default_acceptence[mask],                 \n",
    "                      st2, custom_acceptence[mask],\n",
    "                      only_different=False,\n",
    "#                       fig_dir=os.path.join(fig_dir, 'total_config'),\n",
    "                      max_peaks=20)"
   ]
  },
  {
   "cell_type": "markdown",
   "metadata": {},
   "source": [
    "# Plot bias reconstruction and acceptance"
   ]
  },
  {
   "cell_type": "code",
   "execution_count": null,
   "metadata": {
    "ExecuteTime": {
     "end_time": "2021-03-28T10:14:53.253530Z",
     "start_time": "2021-03-28T10:14:53.197661Z"
    }
   },
   "outputs": [],
   "source": [
    "def bias_recons(si):\n",
    "    sel = custom_acceptence['type'] == si\n",
    "    dat = custom_acceptence[sel]\n",
    "    labels = np.unique(dat['outcome'])\n",
    "    f, axes_rec = plt.subplots(len(labels), 2, figsize=(10,12))\n",
    "    axes = axes_rec.T[0]\n",
    "    for li, label in enumerate(labels):\n",
    "        plt.sca(axes[li])\n",
    "        color = next(axes[0]._get_lines.prop_cycler)['color']\n",
    "        y, x = np.histogram(dat[dat['outcome']==label]['rec_bias'],\n",
    "                            range=[0,1.2],\n",
    "                            bins=25,\n",
    "                           )\n",
    "        x = (x[1:] + x[:-1])/2\n",
    "        plt.scatter(x, y, c = color, label=label)\n",
    "        plt.legend(loc='upper left', fontsize='small')\n",
    "        plt.axvline(0.65)\n",
    "        plt.ylabel('counts')\n",
    "    plt.xlabel('Bias fraction')\n",
    "    axes = axes_rec.T[1]\n",
    "    for li, label in enumerate(labels):\n",
    "        plt.sca(axes[li])\n",
    "        color = next(axes[0]._get_lines.prop_cycler)['color']\n",
    "        y, x = np.histogram(dat[dat['outcome']==label]['acceptance_fraction'],\n",
    "                            range=[-1.25,1.25],\n",
    "                            bins=5,\n",
    "                           )\n",
    "        x = (x[1:] + x[:-1])/2\n",
    "        plt.plot(x, y, c = color, label=label, ds='steps-mid')\n",
    "    #     plt.legend(loc='upper left', fontsize='small')\n",
    "        plt.gca().yaxis.set_label_position(\"right\")\n",
    "        plt.gca().yaxis.tick_right()\n",
    "        plt.ylabel('counts')\n",
    "    plt.subplots_adjust(hspace=0, wspace=0.05)\n",
    "    plt.xlabel('Acceptance fraction')\n",
    "    plt.suptitle(f'S{si} bias reconstruction & arb. acceptance', y=0.9)    \n",
    "    pema.save_canvas(f's{si}_bias_recon_per_outcome', save_dir=fig_dir)"
   ]
  },
  {
   "cell_type": "code",
   "execution_count": null,
   "metadata": {
    "ExecuteTime": {
     "end_time": "2021-03-28T10:15:32.426671Z",
     "start_time": "2021-03-28T10:14:53.261143Z"
    }
   },
   "outputs": [],
   "source": [
    "bias_recons(1)\n",
    "bias_recons(2)"
   ]
  },
  {
   "cell_type": "code",
   "execution_count": null,
   "metadata": {
    "ExecuteTime": {
     "end_time": "2021-03-28T10:15:40.158773Z",
     "start_time": "2021-03-28T10:15:32.432610Z"
    },
    "scrolled": false
   },
   "outputs": [],
   "source": [
    "for r in run_list:\n",
    "    print(r)\n",
    "    plt.hist(st.get_array(r, 'match_acceptance_extended')['acceptance_fraction'], label=r)\n",
    "    plt.yscale('log')\n",
    "    plt.title(r)\n",
    "    plt.show()\n",
    "    print()"
   ]
  },
  {
   "cell_type": "code",
   "execution_count": null,
   "metadata": {
    "ExecuteTime": {
     "end_time": "2021-03-28T10:15:40.779446Z",
     "start_time": "2021-03-28T10:15:40.168048Z"
    }
   },
   "outputs": [],
   "source": [
    "df = st2.get_df(run_list[-1], 'match_acceptance_extended')\n",
    "df[(df['rec_bias']<0.11)&(df['outcome']=='found')]"
   ]
  },
  {
   "cell_type": "code",
   "execution_count": null,
   "metadata": {
    "ExecuteTime": {
     "end_time": "2021-03-28T10:15:41.045977Z",
     "start_time": "2021-03-28T10:15:40.810733Z"
    }
   },
   "outputs": [],
   "source": [
    "df"
   ]
  },
  {
   "cell_type": "code",
   "execution_count": null,
   "metadata": {
    "ExecuteTime": {
     "end_time": "2021-03-28T10:15:43.627153Z",
     "start_time": "2021-03-28T10:15:41.088086Z"
    }
   },
   "outputs": [],
   "source": [
    "plt.plot( st2.get_df(run_list[-1], 'peaks_extended')['id'])\n",
    "plt.ylim(bottom=0)"
   ]
  },
  {
   "cell_type": "code",
   "execution_count": null,
   "metadata": {
    "ExecuteTime": {
     "end_time": "2021-03-28T10:15:45.286146Z",
     "start_time": "2021-03-28T10:15:43.652511Z"
    }
   },
   "outputs": [],
   "source": [
    "plt.plot( st2.get_df(run_list[-1], 'match_acceptance_extended')['matched_to'])\n",
    "plt.ylim(bottom=0)"
   ]
  },
  {
   "cell_type": "code",
   "execution_count": null,
   "metadata": {},
   "outputs": [],
   "source": [
    "plt.plot( st2.get_df(run_list[-1], 'match_acceptance_extended')['matched_to'])\n",
    "plt.ylim(bottom=0)"
   ]
  }
 ],
 "metadata": {
  "kernelspec": {
   "display_name": "Python 3",
   "language": "python",
   "name": "python3"
  },
  "language_info": {
   "codemirror_mode": {
    "name": "ipython",
    "version": 3
   },
   "file_extension": ".py",
   "mimetype": "text/x-python",
   "name": "python",
   "nbconvert_exporter": "python",
   "pygments_lexer": "ipython3",
   "version": "3.8.5"
  },
  "latex_envs": {
   "LaTeX_envs_menu_present": true,
   "autoclose": false,
   "autocomplete": true,
   "bibliofile": "biblio.bib",
   "cite_by": "apalike",
   "current_citInitial": 1,
   "eqLabelWithNumbers": true,
   "eqNumInitial": 1,
   "hotkeys": {
    "equation": "Ctrl-E",
    "itemize": "Ctrl-I"
   },
   "labels_anchors": false,
   "latex_user_defs": false,
   "report_style_numbering": false,
   "user_envs_cfg": false
  },
  "varInspector": {
   "cols": {
    "lenName": 16,
    "lenType": 16,
    "lenVar": 40
   },
   "kernels_config": {
    "python": {
     "delete_cmd_postfix": "",
     "delete_cmd_prefix": "del ",
     "library": "var_list.py",
     "varRefreshCmd": "print(var_dic_list())"
    },
    "r": {
     "delete_cmd_postfix": ") ",
     "delete_cmd_prefix": "rm(",
     "library": "var_list.r",
     "varRefreshCmd": "cat(var_dic_list()) "
    }
   },
   "types_to_exclude": [
    "module",
    "function",
    "builtin_function_or_method",
    "instance",
    "_Feature"
   ],
   "window_display": false
  },
  "widgets": {
   "state": {
    "a26e7f9ab967429687376a4127408b3b": {
     "views": [
      {
       "cell_index": 9
      }
     ]
    }
   },
   "version": "1.2.0"
  }
 },
 "nbformat": 4,
 "nbformat_minor": 4
}
